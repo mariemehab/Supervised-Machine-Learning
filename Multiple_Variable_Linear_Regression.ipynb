{
  "nbformat": 4,
  "nbformat_minor": 0,
  "metadata": {
    "colab": {
      "provenance": [],
      "toc_visible": true
    },
    "kernelspec": {
      "name": "python3",
      "display_name": "Python 3"
    },
    "language_info": {
      "name": "python"
    }
  },
  "cells": [
    {
      "cell_type": "code",
      "execution_count": 2,
      "metadata": {
        "id": "L3lNHJx9SNK-"
      },
      "outputs": [],
      "source": [
        "import copy , math\n",
        "import numpy as np\n",
        "import matplotlib.pyplot as plt\n",
        "plt.style.use('./deeplearning.mplstyle')\n",
        "np.set_printoptions(precision=2)  # reduced  #This line controls how many decimal places are displayed when printing NumPy arrays:"
      ]
    },
    {
      "cell_type": "markdown",
      "source": [
        "problem ,\n",
        "dataset has 3 ex,\n",
        "four features"
      ],
      "metadata": {
        "id": "JEfStzRsUgyL"
      }
    },
    {
      "cell_type": "code",
      "source": [
        "x_train=np.array([[2104, 5, 1, 45], [1416, 3, 2, 40], [852, 2, 1, 35]])\n",
        "y_train=np.array([460, 232, 178])"
      ],
      "metadata": {
        "id": "ZLEq-YhGUaYz"
      },
      "execution_count": 3,
      "outputs": []
    },
    {
      "cell_type": "markdown",
      "source": [
        " Matrix X containing our examples"
      ],
      "metadata": {
        "id": "tcZBOcCYVT2H"
      }
    },
    {
      "cell_type": "code",
      "source": [
        "#data is stored in np array/matrix\n",
        "print(f\"x shape: {x_train .shape} , x type :{type(x_train)}\")\n",
        "print(x_train)\n",
        "print(f\"y Shape: {y_train.shape}, y Type:{type(y_train)})\")\n",
        "print(y_train)"
      ],
      "metadata": {
        "colab": {
          "base_uri": "https://localhost:8080/"
        },
        "id": "705jLMJ_VVum",
        "outputId": "2d7ac630-d6fe-4b25-acab-344048ad1fd4"
      },
      "execution_count": 4,
      "outputs": [
        {
          "output_type": "stream",
          "name": "stdout",
          "text": [
            "x shape: (3, 4) , x type :<class 'numpy.ndarray'>\n",
            "[[2104    5    1   45]\n",
            " [1416    3    2   40]\n",
            " [ 852    2    1   35]]\n",
            "y Shape: (3,), y Type:<class 'numpy.ndarray'>)\n",
            "[460 232 178]\n"
          ]
        }
      ]
    },
    {
      "cell_type": "markdown",
      "source": [
        "w ,b\n"
      ],
      "metadata": {
        "id": "ZX5OPhOoVxtb"
      }
    },
    {
      "cell_type": "code",
      "source": [
        "b_init=785.1811367994083\n",
        "w_int=np.array([ 0.39133535, 18.75376741, -53.36032453, -26.42131618])\n",
        "print(f\"w_init shape: {w_int.shape}, b_init type:{type(b_init)}\")\n",
        "print(w_int)"
      ],
      "metadata": {
        "colab": {
          "base_uri": "https://localhost:8080/"
        },
        "id": "GoF9bjNWVv8L",
        "outputId": "7f6a531e-a9fe-4b38-9632-4dc0584d58ed"
      },
      "execution_count": 7,
      "outputs": [
        {
          "output_type": "stream",
          "name": "stdout",
          "text": [
            "w_init shape: (4,), b_init type:<class 'float'>\n",
            "[  0.39  18.75 -53.36 -26.42]\n"
          ]
        }
      ]
    },
    {
      "cell_type": "markdown",
      "source": [
        "single prediction element by element"
      ],
      "metadata": {
        "id": "iHrIB7S6WJmr"
      }
    },
    {
      "cell_type": "code",
      "source": [
        "def predict_single_loop(x,w,b):\n",
        "  n=x.shape[0]\n",
        "  p=0\n",
        "  for i in range(n):\n",
        "    p_i=x[i]*w[i]\n",
        "    p=p+p_i\n",
        "  p= p + b\n",
        "  return p\n",
        "\n",
        "\n"
      ],
      "metadata": {
        "id": "OwEV_Y0AWM7T"
      },
      "execution_count": 8,
      "outputs": []
    },
    {
      "cell_type": "markdown",
      "source": [
        "get a row from our training data"
      ],
      "metadata": {
        "id": "-LxMn4KbW3K2"
      }
    },
    {
      "cell_type": "code",
      "source": [
        "x_vec=x_train[0,:]\n",
        "print(f\"x_vec shape {x_vec.shape}, x_vec value:{x_vec}\")\n",
        "\n",
        "# make a prediction\n",
        "f_wb=predict_single_loop(x_vec,w_int,b_init)\n",
        "print(f\"f_wb shape {f_wb.shape}, prediction:{f_wb}\")"
      ],
      "metadata": {
        "colab": {
          "base_uri": "https://localhost:8080/"
        },
        "id": "Lx2xrDC_W7C1",
        "outputId": "2ab6c017-44bb-48c3-cc50-5746a2514d41"
      },
      "execution_count": 9,
      "outputs": [
        {
          "output_type": "stream",
          "name": "stdout",
          "text": [
            "x_vec shape (4,), x_vec value:[2104    5    1   45]\n",
            "f_wb shape (), prediction:459.9999976194083\n"
          ]
        }
      ]
    },
    {
      "cell_type": "markdown",
      "source": [
        "single prediction vector"
      ],
      "metadata": {
        "id": "HTGK41KoX8sL"
      }
    },
    {
      "cell_type": "code",
      "source": [
        "def predict (x,w,b):\n",
        "  p=np.dot(x,w)+b\n",
        "  return p"
      ],
      "metadata": {
        "id": "R-bg3HucX_1c"
      },
      "execution_count": 10,
      "outputs": []
    },
    {
      "cell_type": "code",
      "source": [
        "# get a row from our training data\n",
        "x_vec = x_train[0,:]\n",
        "print(f\"x_vec shape {x_vec.shape}, x_vec value: {x_vec}\")\n",
        "\n",
        "# make a prediction\n",
        "f_wb = predict(x_vec,w_int, b_init)\n",
        "print(f\"f_wb shape {f_wb.shape}, prediction: {f_wb}\")"
      ],
      "metadata": {
        "colab": {
          "base_uri": "https://localhost:8080/"
        },
        "id": "c0JDa5ElYJRe",
        "outputId": "baf7fb5e-fa5d-4673-d58e-417e3eff0644"
      },
      "execution_count": 13,
      "outputs": [
        {
          "output_type": "stream",
          "name": "stdout",
          "text": [
            "x_vec shape (4,), x_vec value: [2104    5    1   45]\n",
            "f_wb shape (), prediction: 459.9999976194083\n"
          ]
        }
      ]
    },
    {
      "cell_type": "markdown",
      "source": [
        " Compute Cost With Multiple **Variables**"
      ],
      "metadata": {
        "id": "4zmjLfHKYP7G"
      }
    },
    {
      "cell_type": "code",
      "source": [
        "def comput_cost(x,y,w,b):\n",
        "  m=x.shape[0]\n",
        "  cost=0.0\n",
        "  for i in range(m):\n",
        "    f_i=np.dot(x[i],w)+b\n",
        "    cost=cost+(f_i-y[i])**2\n",
        "    cost=cost/(2*m)\n",
        "    return cost"
      ],
      "metadata": {
        "id": "6pb9CKJcYS5v"
      },
      "execution_count": 16,
      "outputs": []
    },
    {
      "cell_type": "code",
      "source": [
        "# Compute and display cost using our pre-chosen optimal parameters.\n",
        "cost = comput_cost(x_train, y_train, w_int, b_init)\n",
        "print(f'Cost at optimal w : {cost}')"
      ],
      "metadata": {
        "colab": {
          "base_uri": "https://localhost:8080/"
        },
        "id": "UAoA5-lsZiP7",
        "outputId": "b3de0c5e-374e-490d-eb4b-c6d257974ec1"
      },
      "execution_count": 17,
      "outputs": [
        {
          "output_type": "stream",
          "name": "stdout",
          "text": [
            "Cost at optimal w : 9.445361366440227e-13\n"
          ]
        }
      ]
    },
    {
      "cell_type": "markdown",
      "source": [
        "gradient descent"
      ],
      "metadata": {
        "id": "yO9UOpWsZ2xb"
      }
    },
    {
      "cell_type": "code",
      "source": [
        "def compute_gradient(x,y,w,b):\n",
        "  m,n=x.shape  #(number of examples, number of features)\n",
        "  dj_dw=np.zeros((n,))\n",
        "  dj_db=0.\n",
        "\n",
        "  for i in range(m):\n",
        "    err=(np.dot(x[i],w)+b) - y[i]\n",
        "    for j in range(n):\n",
        "      dj_dw[j]=dj_dw[j]+err*x[i,j]\n",
        "    dj_db=dj_db+err\n",
        "  dj_dw=dj_dw/m\n",
        "  dj_db=dj_db/m\n",
        "  return dj_db,dj_dw\n"
      ],
      "metadata": {
        "id": "w_9K9AwcZ6m_"
      },
      "execution_count": 18,
      "outputs": []
    },
    {
      "cell_type": "code",
      "source": [
        "tmp_dj_db, tmp_dj_dw = compute_gradient(x_train, y_train, w_int, b_init)\n",
        "print(f'dj_db at initial w,b: {tmp_dj_db}')\n",
        "print(f'dj_dw at initial w,b: \\n {tmp_dj_dw}')"
      ],
      "metadata": {
        "colab": {
          "base_uri": "https://localhost:8080/"
        },
        "id": "piERzk9xdatG",
        "outputId": "9b0edd7d-9941-496c-c961-5e7075530199"
      },
      "execution_count": 19,
      "outputs": [
        {
          "output_type": "stream",
          "name": "stdout",
          "text": [
            "dj_db at initial w,b: -1.6739251501955248e-06\n",
            "dj_dw at initial w,b: \n",
            " [-2.73e-03 -6.27e-06 -2.22e-06 -6.92e-05]\n"
          ]
        }
      ]
    },
    {
      "cell_type": "markdown",
      "source": [
        "Gradient Descent With Multiple Variables"
      ],
      "metadata": {
        "id": "fIthNF0rdkHq"
      }
    },
    {
      "cell_type": "code",
      "source": [
        "def gradient_descent(x,y,w_in,b_in,cost_fun,grad_fun,alpha,num_iters):\n",
        "  J_history=[]\n",
        "  w=copy.deepcopy(w_in)\n",
        "  b=b_in\n",
        "  for i in range(num_iters):\n",
        "    dj_db,dj_dw=grad_fun(x,y,w,b)\n",
        "    w=w-alpha*dj_dw\n",
        "    b=b-alpha*dj_db\n",
        "    if i<100000:\n",
        "      J_history.append(cost_fun(x,y,w,b))\n",
        "\n",
        "    if i%math.ceil(num_iters/10)==0:\n",
        "      print(f\"Iteration {i:4d}: Cost {J_history[-1]:8.2f}   \")\n",
        "\n",
        "  return w,b,J_history\n",
        "\n"
      ],
      "metadata": {
        "id": "KhIpJ9txdhTN"
      },
      "execution_count": 20,
      "outputs": []
    },
    {
      "cell_type": "code",
      "source": [
        "# initialize parameters\n",
        "initial_w = np.zeros_like(w_int)\n",
        "initial_b = 0.\n",
        "# some gradient descent settings\n",
        "iterations = 1000\n",
        "alpha = 5.0e-7\n",
        "# run gradient descent\n",
        "w_final, b_final, J_hist = gradient_descent(x_train, y_train, initial_w, initial_b,\n",
        "                                                    comput_cost, compute_gradient,\n",
        "                                                    alpha, iterations)\n",
        "print(f\"b,w found by gradient descent: {b_final:0.2f},{w_final} \")\n",
        "m,_ = x_train.shape\n",
        "for i in range(m):\n",
        "    print(f\"prediction: {np.dot(x_train[i], w_final) + b_final:0.2f}, target value: {y_train[i]}\")"
      ],
      "metadata": {
        "colab": {
          "base_uri": "https://localhost:8080/"
        },
        "id": "dI4IBTPbeSIQ",
        "outputId": "c5df1ddb-1e18-4c25-89fa-87ed39a8c476"
      },
      "execution_count": 21,
      "outputs": [
        {
          "output_type": "stream",
          "name": "stdout",
          "text": [
            "Iteration    0: Cost   384.69   \n",
            "Iteration  100: Cost   196.63   \n",
            "Iteration  200: Cost   195.94   \n",
            "Iteration  300: Cost   195.25   \n",
            "Iteration  400: Cost   194.57   \n",
            "Iteration  500: Cost   193.89   \n",
            "Iteration  600: Cost   193.22   \n",
            "Iteration  700: Cost   192.55   \n",
            "Iteration  800: Cost   191.88   \n",
            "Iteration  900: Cost   191.22   \n",
            "b,w found by gradient descent: -0.00,[ 0.2   0.   -0.01 -0.07] \n",
            "prediction: 426.19, target value: 460\n",
            "prediction: 286.17, target value: 232\n",
            "prediction: 171.47, target value: 178\n"
          ]
        }
      ]
    },
    {
      "cell_type": "code",
      "source": [
        "# plot cost versus iteration\n",
        "fig, (ax1, ax2) = plt.subplots(1, 2, constrained_layout=True, figsize=(12, 4))\n",
        "ax1.plot(J_hist)\n",
        "ax2.plot(100 + np.arange(len(J_hist[100:])), J_hist[100:])\n",
        "ax1.set_title(\"Cost vs. iteration\");  ax2.set_title(\"Cost vs. iteration (tail)\")\n",
        "ax1.set_ylabel('Cost')             ;  ax2.set_ylabel('Cost')\n",
        "ax1.set_xlabel('iteration step')   ;  ax2.set_xlabel('iteration step')\n",
        "plt.show()"
      ],
      "metadata": {
        "id": "R1j_i4dZeadf",
        "outputId": "c5d66c9e-4758-45ad-e9fc-ed4f7dea9150",
        "colab": {
          "base_uri": "https://localhost:8080/",
          "height": 395
        }
      },
      "execution_count": 22,
      "outputs": [
        {
          "output_type": "display_data",
          "data": {
            "text/plain": [
              "<Figure size 1200x400 with 2 Axes>"
            ],
            "image/png": "[encoded data removed]"
          },
          "metadata": {}
        }
      ]
    }
  ]
}